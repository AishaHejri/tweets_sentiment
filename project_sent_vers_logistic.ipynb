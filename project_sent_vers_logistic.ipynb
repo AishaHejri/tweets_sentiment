{
 "cells": [
  {
   "cell_type": "markdown",
   "id": "ab656998-49fd-45e1-83e0-176c7b111ab2",
   "metadata": {},
   "source": [
    "### Importingdata"
   ]
  },
  {
   "cell_type": "code",
   "execution_count": 1,
   "id": "69e970d0-03cf-432e-acd9-e7ec0b1a9f8d",
   "metadata": {},
   "outputs": [],
   "source": [
    "import pandas as pd\n",
    "import nltk\n",
    "from nltk.corpus import stopwords\n",
    "from nltk.tokenize import word_tokenize\n",
    "from nltk.stem import WordNetLemmatizer\n",
    "import spacy\n",
    "import re"
   ]
  },
  {
   "cell_type": "code",
   "execution_count": 2,
   "id": "165fce40-cf33-40dc-8d68-cae6ad9d859f",
   "metadata": {},
   "outputs": [],
   "source": [
    "# nltk.download('stopwords')\n",
    "# nltk.download('punkt')\n",
    "# nltk.download('wordnet')"
   ]
  },
  {
   "cell_type": "code",
   "execution_count": 2,
   "id": "8e907108-045e-4755-8ab4-90cee35a588a",
   "metadata": {},
   "outputs": [],
   "source": [
    "my_data = pd.read_csv(r'dataset\\data.csv', encoding = \"ISO-8859-1\", header=None)"
   ]
  },
  {
   "cell_type": "code",
   "execution_count": 3,
   "id": "483ff4d9-e007-4b64-ad8a-965e4641c923",
   "metadata": {},
   "outputs": [
    {
     "data": {
      "text/html": [
       "<div>\n",
       "<style scoped>\n",
       "    .dataframe tbody tr th:only-of-type {\n",
       "        vertical-align: middle;\n",
       "    }\n",
       "\n",
       "    .dataframe tbody tr th {\n",
       "        vertical-align: top;\n",
       "    }\n",
       "\n",
       "    .dataframe thead th {\n",
       "        text-align: right;\n",
       "    }\n",
       "</style>\n",
       "<table border=\"1\" class=\"dataframe\">\n",
       "  <thead>\n",
       "    <tr style=\"text-align: right;\">\n",
       "      <th></th>\n",
       "      <th>0</th>\n",
       "      <th>1</th>\n",
       "      <th>2</th>\n",
       "      <th>3</th>\n",
       "      <th>4</th>\n",
       "      <th>5</th>\n",
       "    </tr>\n",
       "  </thead>\n",
       "  <tbody>\n",
       "    <tr>\n",
       "      <th>1527267</th>\n",
       "      <td>4</td>\n",
       "      <td>2177164881</td>\n",
       "      <td>Mon Jun 15 05:35:01 PDT 2009</td>\n",
       "      <td>NO_QUERY</td>\n",
       "      <td>islandchic</td>\n",
       "      <td>@JayMurda Morning to you, It's evening for me ...</td>\n",
       "    </tr>\n",
       "    <tr>\n",
       "      <th>1240998</th>\n",
       "      <td>4</td>\n",
       "      <td>1993906405</td>\n",
       "      <td>Mon Jun 01 11:06:46 PDT 2009</td>\n",
       "      <td>NO_QUERY</td>\n",
       "      <td>THChicago</td>\n",
       "      <td>Still not up...twitter is still working proper...</td>\n",
       "    </tr>\n",
       "    <tr>\n",
       "      <th>951565</th>\n",
       "      <td>4</td>\n",
       "      <td>1824267923</td>\n",
       "      <td>Sun May 17 00:40:30 PDT 2009</td>\n",
       "      <td>NO_QUERY</td>\n",
       "      <td>xo_mcflyandjb</td>\n",
       "      <td>wants to read Tams oneshot</td>\n",
       "    </tr>\n",
       "    <tr>\n",
       "      <th>1219030</th>\n",
       "      <td>4</td>\n",
       "      <td>1989894157</td>\n",
       "      <td>Mon Jun 01 03:10:52 PDT 2009</td>\n",
       "      <td>NO_QUERY</td>\n",
       "      <td>Genisys2009</td>\n",
       "      <td>@jemK have you had any joy with finding a solu...</td>\n",
       "    </tr>\n",
       "    <tr>\n",
       "      <th>1446765</th>\n",
       "      <td>4</td>\n",
       "      <td>2062546489</td>\n",
       "      <td>Sat Jun 06 23:33:03 PDT 2009</td>\n",
       "      <td>NO_QUERY</td>\n",
       "      <td>MacBrittani</td>\n",
       "      <td>yeay, im on the phone with miqueL  hes admazin...</td>\n",
       "    </tr>\n",
       "    <tr>\n",
       "      <th>219705</th>\n",
       "      <td>0</td>\n",
       "      <td>1976458220</td>\n",
       "      <td>Sat May 30 17:22:37 PDT 2009</td>\n",
       "      <td>NO_QUERY</td>\n",
       "      <td>nessie_111</td>\n",
       "      <td>watching sky 3.. sky1's cheap version.. wow th...</td>\n",
       "    </tr>\n",
       "    <tr>\n",
       "      <th>421819</th>\n",
       "      <td>0</td>\n",
       "      <td>2062504480</td>\n",
       "      <td>Sat Jun 06 23:25:32 PDT 2009</td>\n",
       "      <td>NO_QUERY</td>\n",
       "      <td>1love7even</td>\n",
       "      <td>Well me and My Ego are gonna hit the sheets......</td>\n",
       "    </tr>\n",
       "    <tr>\n",
       "      <th>1177598</th>\n",
       "      <td>4</td>\n",
       "      <td>1981440252</td>\n",
       "      <td>Sun May 31 09:09:31 PDT 2009</td>\n",
       "      <td>NO_QUERY</td>\n",
       "      <td>NiaNaia</td>\n",
       "      <td>@macstarr - Oh my, that is early For a Sunday....</td>\n",
       "    </tr>\n",
       "    <tr>\n",
       "      <th>159868</th>\n",
       "      <td>0</td>\n",
       "      <td>1956940377</td>\n",
       "      <td>Thu May 28 23:05:01 PDT 2009</td>\n",
       "      <td>NO_QUERY</td>\n",
       "      <td>HarcoPloegman</td>\n",
       "      <td>@marklee3d Unfortunately not. Why aren't you c...</td>\n",
       "    </tr>\n",
       "    <tr>\n",
       "      <th>786581</th>\n",
       "      <td>0</td>\n",
       "      <td>2324693428</td>\n",
       "      <td>Thu Jun 25 03:48:43 PDT 2009</td>\n",
       "      <td>NO_QUERY</td>\n",
       "      <td>QuantaCrayton</td>\n",
       "      <td>At work feeling bad</td>\n",
       "    </tr>\n",
       "  </tbody>\n",
       "</table>\n",
       "</div>"
      ],
      "text/plain": [
       "         0           1                             2         3              4  \\\n",
       "1527267  4  2177164881  Mon Jun 15 05:35:01 PDT 2009  NO_QUERY     islandchic   \n",
       "1240998  4  1993906405  Mon Jun 01 11:06:46 PDT 2009  NO_QUERY      THChicago   \n",
       "951565   4  1824267923  Sun May 17 00:40:30 PDT 2009  NO_QUERY  xo_mcflyandjb   \n",
       "1219030  4  1989894157  Mon Jun 01 03:10:52 PDT 2009  NO_QUERY    Genisys2009   \n",
       "1446765  4  2062546489  Sat Jun 06 23:33:03 PDT 2009  NO_QUERY    MacBrittani   \n",
       "219705   0  1976458220  Sat May 30 17:22:37 PDT 2009  NO_QUERY     nessie_111   \n",
       "421819   0  2062504480  Sat Jun 06 23:25:32 PDT 2009  NO_QUERY     1love7even   \n",
       "1177598  4  1981440252  Sun May 31 09:09:31 PDT 2009  NO_QUERY        NiaNaia   \n",
       "159868   0  1956940377  Thu May 28 23:05:01 PDT 2009  NO_QUERY  HarcoPloegman   \n",
       "786581   0  2324693428  Thu Jun 25 03:48:43 PDT 2009  NO_QUERY  QuantaCrayton   \n",
       "\n",
       "                                                         5  \n",
       "1527267  @JayMurda Morning to you, It's evening for me ...  \n",
       "1240998  Still not up...twitter is still working proper...  \n",
       "951565                         wants to read Tams oneshot   \n",
       "1219030  @jemK have you had any joy with finding a solu...  \n",
       "1446765  yeay, im on the phone with miqueL  hes admazin...  \n",
       "219705   watching sky 3.. sky1's cheap version.. wow th...  \n",
       "421819   Well me and My Ego are gonna hit the sheets......  \n",
       "1177598  @macstarr - Oh my, that is early For a Sunday....  \n",
       "159868   @marklee3d Unfortunately not. Why aren't you c...  \n",
       "786581                                At work feeling bad   "
      ]
     },
     "execution_count": 3,
     "metadata": {},
     "output_type": "execute_result"
    }
   ],
   "source": [
    "my_data.sample(10)"
   ]
  },
  {
   "cell_type": "code",
   "execution_count": 4,
   "id": "0803926a-6789-40f4-ad1d-7379ee027788",
   "metadata": {},
   "outputs": [
    {
     "data": {
      "text/html": [
       "<div>\n",
       "<style scoped>\n",
       "    .dataframe tbody tr th:only-of-type {\n",
       "        vertical-align: middle;\n",
       "    }\n",
       "\n",
       "    .dataframe tbody tr th {\n",
       "        vertical-align: top;\n",
       "    }\n",
       "\n",
       "    .dataframe thead th {\n",
       "        text-align: right;\n",
       "    }\n",
       "</style>\n",
       "<table border=\"1\" class=\"dataframe\">\n",
       "  <thead>\n",
       "    <tr style=\"text-align: right;\">\n",
       "      <th></th>\n",
       "      <th>target</th>\n",
       "      <th>id</th>\n",
       "      <th>date</th>\n",
       "      <th>flag</th>\n",
       "      <th>user</th>\n",
       "      <th>text</th>\n",
       "    </tr>\n",
       "  </thead>\n",
       "  <tbody>\n",
       "    <tr>\n",
       "      <th>0</th>\n",
       "      <td>0</td>\n",
       "      <td>1467810369</td>\n",
       "      <td>Mon Apr 06 22:19:45 PDT 2009</td>\n",
       "      <td>NO_QUERY</td>\n",
       "      <td>_TheSpecialOne_</td>\n",
       "      <td>@switchfoot http://twitpic.com/2y1zl - Awww, t...</td>\n",
       "    </tr>\n",
       "    <tr>\n",
       "      <th>1</th>\n",
       "      <td>0</td>\n",
       "      <td>1467810672</td>\n",
       "      <td>Mon Apr 06 22:19:49 PDT 2009</td>\n",
       "      <td>NO_QUERY</td>\n",
       "      <td>scotthamilton</td>\n",
       "      <td>is upset that he can't update his Facebook by ...</td>\n",
       "    </tr>\n",
       "    <tr>\n",
       "      <th>2</th>\n",
       "      <td>0</td>\n",
       "      <td>1467810917</td>\n",
       "      <td>Mon Apr 06 22:19:53 PDT 2009</td>\n",
       "      <td>NO_QUERY</td>\n",
       "      <td>mattycus</td>\n",
       "      <td>@Kenichan I dived many times for the ball. Man...</td>\n",
       "    </tr>\n",
       "    <tr>\n",
       "      <th>3</th>\n",
       "      <td>0</td>\n",
       "      <td>1467811184</td>\n",
       "      <td>Mon Apr 06 22:19:57 PDT 2009</td>\n",
       "      <td>NO_QUERY</td>\n",
       "      <td>ElleCTF</td>\n",
       "      <td>my whole body feels itchy and like its on fire</td>\n",
       "    </tr>\n",
       "    <tr>\n",
       "      <th>4</th>\n",
       "      <td>0</td>\n",
       "      <td>1467811193</td>\n",
       "      <td>Mon Apr 06 22:19:57 PDT 2009</td>\n",
       "      <td>NO_QUERY</td>\n",
       "      <td>Karoli</td>\n",
       "      <td>@nationwideclass no, it's not behaving at all....</td>\n",
       "    </tr>\n",
       "  </tbody>\n",
       "</table>\n",
       "</div>"
      ],
      "text/plain": [
       "   target          id                          date      flag  \\\n",
       "0       0  1467810369  Mon Apr 06 22:19:45 PDT 2009  NO_QUERY   \n",
       "1       0  1467810672  Mon Apr 06 22:19:49 PDT 2009  NO_QUERY   \n",
       "2       0  1467810917  Mon Apr 06 22:19:53 PDT 2009  NO_QUERY   \n",
       "3       0  1467811184  Mon Apr 06 22:19:57 PDT 2009  NO_QUERY   \n",
       "4       0  1467811193  Mon Apr 06 22:19:57 PDT 2009  NO_QUERY   \n",
       "\n",
       "              user                                               text  \n",
       "0  _TheSpecialOne_  @switchfoot http://twitpic.com/2y1zl - Awww, t...  \n",
       "1    scotthamilton  is upset that he can't update his Facebook by ...  \n",
       "2         mattycus  @Kenichan I dived many times for the ball. Man...  \n",
       "3          ElleCTF    my whole body feels itchy and like its on fire   \n",
       "4           Karoli  @nationwideclass no, it's not behaving at all....  "
      ]
     },
     "execution_count": 4,
     "metadata": {},
     "output_type": "execute_result"
    }
   ],
   "source": [
    "my_data.columns = ['target', 'id', 'date', 'flag', 'user', 'text']\n",
    "my_data.head()"
   ]
  },
  {
   "cell_type": "code",
   "execution_count": 5,
   "id": "38e60622-54c9-44fb-abff-948b6b70ae39",
   "metadata": {},
   "outputs": [],
   "source": [
    "columns_to_drop = ['id', 'date', 'flag', 'user']\n",
    "my_data.drop(columns_to_drop,axis=1, inplace=True)"
   ]
  },
  {
   "cell_type": "code",
   "execution_count": 6,
   "id": "6f6375bc-2468-4eb7-a27a-09a0ea836e58",
   "metadata": {},
   "outputs": [
    {
     "data": {
      "text/html": [
       "<div>\n",
       "<style scoped>\n",
       "    .dataframe tbody tr th:only-of-type {\n",
       "        vertical-align: middle;\n",
       "    }\n",
       "\n",
       "    .dataframe tbody tr th {\n",
       "        vertical-align: top;\n",
       "    }\n",
       "\n",
       "    .dataframe thead th {\n",
       "        text-align: right;\n",
       "    }\n",
       "</style>\n",
       "<table border=\"1\" class=\"dataframe\">\n",
       "  <thead>\n",
       "    <tr style=\"text-align: right;\">\n",
       "      <th></th>\n",
       "      <th>target</th>\n",
       "      <th>text</th>\n",
       "    </tr>\n",
       "  </thead>\n",
       "  <tbody>\n",
       "    <tr>\n",
       "      <th>0</th>\n",
       "      <td>0</td>\n",
       "      <td>@switchfoot http://twitpic.com/2y1zl - Awww, t...</td>\n",
       "    </tr>\n",
       "    <tr>\n",
       "      <th>1</th>\n",
       "      <td>0</td>\n",
       "      <td>is upset that he can't update his Facebook by ...</td>\n",
       "    </tr>\n",
       "    <tr>\n",
       "      <th>2</th>\n",
       "      <td>0</td>\n",
       "      <td>@Kenichan I dived many times for the ball. Man...</td>\n",
       "    </tr>\n",
       "    <tr>\n",
       "      <th>3</th>\n",
       "      <td>0</td>\n",
       "      <td>my whole body feels itchy and like its on fire</td>\n",
       "    </tr>\n",
       "    <tr>\n",
       "      <th>4</th>\n",
       "      <td>0</td>\n",
       "      <td>@nationwideclass no, it's not behaving at all....</td>\n",
       "    </tr>\n",
       "    <tr>\n",
       "      <th>...</th>\n",
       "      <td>...</td>\n",
       "      <td>...</td>\n",
       "    </tr>\n",
       "    <tr>\n",
       "      <th>95</th>\n",
       "      <td>0</td>\n",
       "      <td>Strider is a sick little puppy  http://apps.fa...</td>\n",
       "    </tr>\n",
       "    <tr>\n",
       "      <th>96</th>\n",
       "      <td>0</td>\n",
       "      <td>so rylee,grace...wana go steve's party or not?...</td>\n",
       "    </tr>\n",
       "    <tr>\n",
       "      <th>97</th>\n",
       "      <td>0</td>\n",
       "      <td>hey, I actually won one of my bracket pools! T...</td>\n",
       "    </tr>\n",
       "    <tr>\n",
       "      <th>98</th>\n",
       "      <td>0</td>\n",
       "      <td>@stark YOU don't follow me, either  and i work...</td>\n",
       "    </tr>\n",
       "    <tr>\n",
       "      <th>99</th>\n",
       "      <td>0</td>\n",
       "      <td>A bad nite for the favorite teams: Astros and ...</td>\n",
       "    </tr>\n",
       "  </tbody>\n",
       "</table>\n",
       "<p>100 rows × 2 columns</p>\n",
       "</div>"
      ],
      "text/plain": [
       "    target                                               text\n",
       "0        0  @switchfoot http://twitpic.com/2y1zl - Awww, t...\n",
       "1        0  is upset that he can't update his Facebook by ...\n",
       "2        0  @Kenichan I dived many times for the ball. Man...\n",
       "3        0    my whole body feels itchy and like its on fire \n",
       "4        0  @nationwideclass no, it's not behaving at all....\n",
       "..     ...                                                ...\n",
       "95       0  Strider is a sick little puppy  http://apps.fa...\n",
       "96       0  so rylee,grace...wana go steve's party or not?...\n",
       "97       0  hey, I actually won one of my bracket pools! T...\n",
       "98       0  @stark YOU don't follow me, either  and i work...\n",
       "99       0  A bad nite for the favorite teams: Astros and ...\n",
       "\n",
       "[100 rows x 2 columns]"
      ]
     },
     "execution_count": 6,
     "metadata": {},
     "output_type": "execute_result"
    }
   ],
   "source": [
    "my_data.head(100)"
   ]
  },
  {
   "cell_type": "code",
   "execution_count": 7,
   "id": "a183df98-7a92-4e24-8fd4-b30c7b66c9ab",
   "metadata": {},
   "outputs": [
    {
     "data": {
      "text/plain": [
       "\"is upset that he can't update his Facebook by texting it... and might cry as a result  School today also. Blah!\""
      ]
     },
     "execution_count": 7,
     "metadata": {},
     "output_type": "execute_result"
    }
   ],
   "source": [
    "my_data.iloc[1,1]"
   ]
  },
  {
   "cell_type": "markdown",
   "id": "b8aa26eb-0be0-4f8f-bb89-fc052b99de33",
   "metadata": {},
   "source": [
    "### Preprocessing data\n"
   ]
  },
  {
   "cell_type": "code",
   "execution_count": 8,
   "id": "3425bcc9-d872-4aa0-b110-d2ab4f5780c3",
   "metadata": {},
   "outputs": [
    {
     "data": {
      "text/plain": [
       "target\n",
       "0    800000\n",
       "4    800000\n",
       "Name: count, dtype: int64"
      ]
     },
     "execution_count": 8,
     "metadata": {},
     "output_type": "execute_result"
    }
   ],
   "source": [
    "my_data.target.value_counts()  # check if there is an imbalance in the classes present in the target variable."
   ]
  },
  {
   "cell_type": "code",
   "execution_count": 9,
   "id": "8c37ec80-0cd9-4141-a1e6-a58b3e71e4b9",
   "metadata": {},
   "outputs": [
    {
     "data": {
      "text/plain": [
       "target\n",
       "-1    800000\n",
       " 1    800000\n",
       "Name: count, dtype: int64"
      ]
     },
     "execution_count": 9,
     "metadata": {},
     "output_type": "execute_result"
    }
   ],
   "source": [
    "replace_data = {0: -1, 4: 1}\n",
    "my_data.replace(replace_data, inplace=True)\n",
    "my_data.target.value_counts()"
   ]
  },
  {
   "cell_type": "code",
   "execution_count": 10,
   "id": "b426dfa3-3c14-496d-9bfd-b654877c50f7",
   "metadata": {},
   "outputs": [],
   "source": [
    "my_data_copy = my_data.head(100)"
   ]
  },
  {
   "cell_type": "code",
   "execution_count": null,
   "id": "6020fe70-7d2d-45a6-aa44-ddea7984870b",
   "metadata": {},
   "outputs": [],
   "source": [
    "from nltk.stem import SnowballStemmer\n",
    "from nltk.corpus import stopwords\n",
    "\n",
    "delete_pattern = \"@\\S+|https?:\\S+|http?:\\S|[^A-Za-z0-9]+\"\n",
    "stopwords = stopwords.words('english')\n",
    "stemmer = SnowballStemmer(\"english\")\n",
    "\n",
    "def preprocess_text_new(text):\n",
    "    # Remove link and special characters\n",
    "    text = re.sub(delete_pattern, ' ', text.lower()).strip()\n",
    "    tokens = word_tokenize(text)\n",
    "    # Remove stop words\n",
    "    tokens = [token for token in tokens if token not in stopwords]\n",
    "    # Stemming the tokens\n",
    "    tokens = [stemmer.stem(token) for token in tokens]\n",
    "    return \" \".join(tokens)"
   ]
  },
  {
   "cell_type": "code",
   "execution_count": null,
   "id": "4962c3ce-a977-4b42-8728-004cb2c40c9a",
   "metadata": {},
   "outputs": [],
   "source": [
    "my_data['preprocessed_text'] =  my_data['text'].apply(preprocess_text_new)"
   ]
  },
  {
   "cell_type": "code",
   "execution_count": null,
   "id": "dde2a247-f8e0-4c62-96ad-0eced0a6f20c",
   "metadata": {},
   "outputs": [],
   "source": [
    "my_data.head(5)"
   ]
  },
  {
   "cell_type": "code",
   "execution_count": null,
   "id": "211cc984-16ad-4949-baeb-9514d174ae72",
   "metadata": {},
   "outputs": [],
   "source": [
    "my_data.shape"
   ]
  },
  {
   "cell_type": "code",
   "execution_count": null,
   "id": "87a3af14-b415-4516-9b73-bbcc61248d2a",
   "metadata": {},
   "outputs": [],
   "source": [
    "my_data.drop('text', axis=1, inplace = True)"
   ]
  },
  {
   "cell_type": "code",
   "execution_count": null,
   "id": "941b639a-1562-4d3f-a57b-beb5219dfbc9",
   "metadata": {},
   "outputs": [],
   "source": [
    "my_data_copy"
   ]
  },
  {
   "cell_type": "code",
   "execution_count": null,
   "id": "750a328e-d4db-4e0e-8f5b-3b59d3d5ba91",
   "metadata": {},
   "outputs": [],
   "source": [
    "my_data.columns = ['target', 'processed_text']\n"
   ]
  },
  {
   "cell_type": "code",
   "execution_count": null,
   "id": "c71906d5-9243-4617-a25a-f73864d93a2b",
   "metadata": {},
   "outputs": [],
   "source": [
    "my_data"
   ]
  },
  {
   "cell_type": "code",
   "execution_count": null,
   "id": "75d64bf2-ff6b-40ea-b9a8-efa0958286c9",
   "metadata": {},
   "outputs": [],
   "source": [
    "my_data.to_pickle('my_data.pickle')"
   ]
  },
  {
   "cell_type": "code",
   "execution_count": null,
   "id": "4037b9b2-ecc1-47ce-acd1-d34d4418ac6e",
   "metadata": {},
   "outputs": [],
   "source": [
    "%pwd"
   ]
  },
  {
   "cell_type": "code",
   "execution_count": 5,
   "id": "e11b8b2e-209b-4e73-84f0-317f1f15f655",
   "metadata": {},
   "outputs": [],
   "source": [
    "#######################################\n",
    "import pandas as pd\n",
    "# Load DataFrame from pickle file\n",
    "my_data_processed = pd.read_pickle('my_data.pickle')"
   ]
  },
  {
   "cell_type": "code",
   "execution_count": 6,
   "id": "5ce3a440-b47e-4cfb-ba9c-e1a12f968762",
   "metadata": {},
   "outputs": [
    {
     "data": {
      "text/html": [
       "<div>\n",
       "<style scoped>\n",
       "    .dataframe tbody tr th:only-of-type {\n",
       "        vertical-align: middle;\n",
       "    }\n",
       "\n",
       "    .dataframe tbody tr th {\n",
       "        vertical-align: top;\n",
       "    }\n",
       "\n",
       "    .dataframe thead th {\n",
       "        text-align: right;\n",
       "    }\n",
       "</style>\n",
       "<table border=\"1\" class=\"dataframe\">\n",
       "  <thead>\n",
       "    <tr style=\"text-align: right;\">\n",
       "      <th></th>\n",
       "      <th>target</th>\n",
       "      <th>processed_text</th>\n",
       "    </tr>\n",
       "  </thead>\n",
       "  <tbody>\n",
       "    <tr>\n",
       "      <th>0</th>\n",
       "      <td>-1</td>\n",
       "      <td>awww bummer shoulda got david carr third day</td>\n",
       "    </tr>\n",
       "    <tr>\n",
       "      <th>1</th>\n",
       "      <td>-1</td>\n",
       "      <td>upset updat facebook text might cri result sch...</td>\n",
       "    </tr>\n",
       "    <tr>\n",
       "      <th>2</th>\n",
       "      <td>-1</td>\n",
       "      <td>dive mani time ball manag save 50 rest go bound</td>\n",
       "    </tr>\n",
       "    <tr>\n",
       "      <th>3</th>\n",
       "      <td>-1</td>\n",
       "      <td>whole bodi feel itchi like fire</td>\n",
       "    </tr>\n",
       "    <tr>\n",
       "      <th>4</th>\n",
       "      <td>-1</td>\n",
       "      <td>behav mad see</td>\n",
       "    </tr>\n",
       "    <tr>\n",
       "      <th>...</th>\n",
       "      <td>...</td>\n",
       "      <td>...</td>\n",
       "    </tr>\n",
       "    <tr>\n",
       "      <th>1599995</th>\n",
       "      <td>1</td>\n",
       "      <td>woke school best feel ever</td>\n",
       "    </tr>\n",
       "    <tr>\n",
       "      <th>1599996</th>\n",
       "      <td>1</td>\n",
       "      <td>thewdb com cool hear old walt interview</td>\n",
       "    </tr>\n",
       "    <tr>\n",
       "      <th>1599997</th>\n",
       "      <td>1</td>\n",
       "      <td>readi mojo makeov ask detail</td>\n",
       "    </tr>\n",
       "    <tr>\n",
       "      <th>1599998</th>\n",
       "      <td>1</td>\n",
       "      <td>happi 38th birthday boo alll time tupac amaru ...</td>\n",
       "    </tr>\n",
       "    <tr>\n",
       "      <th>1599999</th>\n",
       "      <td>1</td>\n",
       "      <td>happi charitytuesday thenspcc sparkschar speak...</td>\n",
       "    </tr>\n",
       "  </tbody>\n",
       "</table>\n",
       "<p>1600000 rows × 2 columns</p>\n",
       "</div>"
      ],
      "text/plain": [
       "         target                                     processed_text\n",
       "0            -1       awww bummer shoulda got david carr third day\n",
       "1            -1  upset updat facebook text might cri result sch...\n",
       "2            -1    dive mani time ball manag save 50 rest go bound\n",
       "3            -1                    whole bodi feel itchi like fire\n",
       "4            -1                                      behav mad see\n",
       "...         ...                                                ...\n",
       "1599995       1                         woke school best feel ever\n",
       "1599996       1            thewdb com cool hear old walt interview\n",
       "1599997       1                       readi mojo makeov ask detail\n",
       "1599998       1  happi 38th birthday boo alll time tupac amaru ...\n",
       "1599999       1  happi charitytuesday thenspcc sparkschar speak...\n",
       "\n",
       "[1600000 rows x 2 columns]"
      ]
     },
     "execution_count": 6,
     "metadata": {},
     "output_type": "execute_result"
    }
   ],
   "source": [
    "my_data_processed"
   ]
  },
  {
   "cell_type": "code",
   "execution_count": 7,
   "id": "2b1742dd-bd1e-4e79-b536-5d828d8fe46c",
   "metadata": {},
   "outputs": [],
   "source": [
    "txt = my_data_processed[\"processed_text\"]\n",
    "targett = my_data_processed.target"
   ]
  },
  {
   "cell_type": "code",
   "execution_count": 8,
   "id": "69c1822c-8536-4708-bf22-d751a4c1ac19",
   "metadata": {},
   "outputs": [
    {
     "name": "stdout",
     "output_type": "stream",
     "text": [
      "(1280000,) (320000,) (1280000,) (320000,)\n"
     ]
    }
   ],
   "source": [
    "from sklearn.model_selection import train_test_split\n",
    "\n",
    "txt_train, txt_test, targett_train, targett_test = train_test_split(txt, targett, test_size=0.2, random_state=42)\n",
    "print(txt_train.shape, txt_test.shape, targett_train.shape, targett_test.shape)"
   ]
  },
  {
   "cell_type": "code",
   "execution_count": 9,
   "id": "623972b4-b883-4c9a-a0b1-ac4a280e205f",
   "metadata": {},
   "outputs": [
    {
     "data": {
      "text/plain": [
       "1374558    ya quot like palm pre touchston charger readyn...\n",
       "1389115                felt earthquak afternoon seem epicent\n",
       "1137831                               ruffl shirt like likey\n",
       "790714     pretti bad night crappi morn fml buttfac didnt...\n",
       "1117911                                      yeah clear view\n",
       "                                 ...                        \n",
       "259178                    song middl chang want born arghhhh\n",
       "1414414                                            good luck\n",
       "131932                                   rather averag 32370\n",
       "671155     pickin misstinayao waitin sadittysash 2 hurri ...\n",
       "121958                 home studi math wooot im go fail shit\n",
       "Name: processed_text, Length: 1280000, dtype: object"
      ]
     },
     "execution_count": 9,
     "metadata": {},
     "output_type": "execute_result"
    }
   ],
   "source": [
    "txt_train"
   ]
  },
  {
   "cell_type": "code",
   "execution_count": 10,
   "id": "076731e2-e2a6-464b-9fea-e9d36a777288",
   "metadata": {},
   "outputs": [],
   "source": [
    "import pickle as pk\n",
    "from sklearn.feature_extraction.text import TfidfVectorizer\n",
    "\n",
    "# Load the vectorizer\n",
    "vectorizer = TfidfVectorizer(max_features=2500)\n",
    "\n",
    "# Save the vectorizer\n",
    "with open('vectorizer.pkl', 'wb') as f:\n",
    "    pk.dump(vectorizer, f)\n",
    "txt_train_prep = vectorizer.fit_transform(txt_train)\n",
    "txt_test_prep = vectorizer.transform(txt_test)"
   ]
  },
  {
   "cell_type": "code",
   "execution_count": 11,
   "id": "d4b8fa1b-a765-44d8-a20e-b48fc100e88c",
   "metadata": {},
   "outputs": [
    {
     "name": "stdout",
     "output_type": "stream",
     "text": [
      "Train score:  0.7630890625\n",
      "Test score:  0.76185625\n"
     ]
    }
   ],
   "source": [
    "from sklearn.linear_model import LogisticRegression\n",
    "\n",
    "log_reg = LogisticRegression(max_iter=1000)\n",
    "log_reg.fit(txt_train_prep, targett_train)\n",
    "\n",
    "print('Train score: ', log_reg.score(txt_train_prep, targett_train))\n",
    "print('Test score: ', log_reg.score(txt_test_prep, targett_test))"
   ]
  },
  {
   "cell_type": "code",
   "execution_count": 12,
   "id": "e2efc654-71a4-4eba-968c-d2fca57cfa6f",
   "metadata": {
    "scrolled": true
   },
   "outputs": [
    {
     "name": "stdout",
     "output_type": "stream",
     "text": [
      "Classification report:\n",
      "              precision    recall  f1-score   support\n",
      "\n",
      "          -1       0.77      0.74      0.75    159494\n",
      "           1       0.75      0.79      0.77    160506\n",
      "\n",
      "    accuracy                           0.76    320000\n",
      "   macro avg       0.76      0.76      0.76    320000\n",
      "weighted avg       0.76      0.76      0.76    320000\n",
      "\n",
      "Confusion matrix:\n"
     ]
    },
    {
     "data": {
      "image/png": "[encoded data removed]",
      "text/plain": [
       "<Figure size 640x480 with 2 Axes>"
      ]
     },
     "metadata": {},
     "output_type": "display_data"
    }
   ],
   "source": [
    "# Confusion matrix\n",
    "from sklearn.metrics import ConfusionMatrixDisplay\n",
    "from sklearn.metrics import classification_report\n",
    "\n",
    "targett_pred = log_reg.predict(txt_test_prep)\n",
    "\n",
    "print('Classification report:')\n",
    "print(classification_report(targett_test, targett_pred))\n",
    "\n",
    "print('Confusion matrix:')\n",
    "ConfusionMatrixDisplay.from_predictions(targett_test, targett_pred, cmap='Blues', normalize='true');"
   ]
  },
  {
   "cell_type": "code",
   "execution_count": 13,
   "id": "f9bd5934-a1c5-4ebe-aafc-103c722e846d",
   "metadata": {},
   "outputs": [],
   "source": [
    "import pickle as pk"
   ]
  },
  {
   "cell_type": "code",
   "execution_count": 14,
   "id": "ef546da4-5772-464d-a19e-29f24a8ce697",
   "metadata": {},
   "outputs": [],
   "source": [
    "pk.dump(log_reg,open('log_reg.pkl','wb'))"
   ]
  },
  {
   "cell_type": "code",
   "execution_count": null,
   "id": "93d251d6-8c1f-4621-a20b-f0391d179699",
   "metadata": {},
   "outputs": [],
   "source": []
  },
  {
   "cell_type": "code",
   "execution_count": null,
   "id": "6f0eadf4-e6df-4a37-b9ac-bbda7aa83e23",
   "metadata": {},
   "outputs": [],
   "source": []
  }
 ],
 "metadata": {
  "kernelspec": {
   "display_name": "Python 3 (ipykernel)",
   "language": "python",
   "name": "python3"
  },
  "language_info": {
   "codemirror_mode": {
    "name": "ipython",
    "version": 3
   },
   "file_extension": ".py",
   "mimetype": "text/x-python",
   "name": "python",
   "nbconvert_exporter": "python",
   "pygments_lexer": "ipython3",
   "version": "3.11.7"
  }
 },
 "nbformat": 4,
 "nbformat_minor": 5
}
